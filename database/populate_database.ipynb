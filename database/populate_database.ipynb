{
 "cells": [
  {
   "cell_type": "code",
   "execution_count": 1,
   "metadata": {},
   "outputs": [
    {
     "name": "stdout",
     "output_type": "stream",
     "text": [
      "Requirement already satisfied: pymongo in /opt/homebrew/lib/python3.10/site-packages (4.6.2)\n",
      "Requirement already satisfied: dnspython<3.0.0,>=1.16.0 in /opt/homebrew/lib/python3.10/site-packages (from pymongo) (2.6.1)\n",
      "\n",
      "\u001b[1m[\u001b[0m\u001b[34;49mnotice\u001b[0m\u001b[1;39;49m]\u001b[0m\u001b[39;49m A new release of pip is available: \u001b[0m\u001b[31;49m23.3.1\u001b[0m\u001b[39;49m -> \u001b[0m\u001b[32;49m24.0\u001b[0m\n",
      "\u001b[1m[\u001b[0m\u001b[34;49mnotice\u001b[0m\u001b[1;39;49m]\u001b[0m\u001b[39;49m To update, run: \u001b[0m\u001b[32;49mpython3.10 -m pip install --upgrade pip\u001b[0m\n",
      "Note: you may need to restart the kernel to use updated packages.\n"
     ]
    }
   ],
   "source": [
    "pip install pymongo"
   ]
  },
  {
   "cell_type": "code",
   "execution_count": 1,
   "metadata": {},
   "outputs": [],
   "source": [
    "from pymongo import MongoClient\n",
    "import random\n",
    "import string\n",
    "\n",
    "# Function to generate a random name\n",
    "def random_name(length=5):\n",
    "    letters = string.ascii_letters\n",
    "    return ''.join(random.choice(letters) for i in range(length))\n",
    "\n",
    "# Function to generate a random age\n",
    "def random_age(min_age=18, max_age=100):\n",
    "    return random.randint(min_age, max_age)\n"
   ]
  },
  {
   "cell_type": "code",
   "execution_count": 4,
   "metadata": {},
   "outputs": [
    {
     "name": "stdout",
     "output_type": "stream",
     "text": [
      "Inserted 10000 documents.\n"
     ]
    }
   ],
   "source": [
    "from pymongo import MongoClient\n",
    "import random\n",
    "import string\n",
    "\n",
    "# Function to generate a random name\n",
    "def random_name(length=5):\n",
    "    letters = string.ascii_letters\n",
    "    return ''.join(random.choice(letters) for i in range(length))\n",
    "\n",
    "# Function to generate a random age\n",
    "def random_age(min_age=18, max_age=100):\n",
    "    return random.randint(min_age, max_age)\n",
    "\n",
    "# MongoDB connection details\n",
    "# Update the 'username', 'password', 'hostname', and 'port' as necessary\n",
    "username = 'adminUser'\n",
    "password = 'cloudcomputingrocks'\n",
    "hostname = '34.130.143.13'  # or the IP address of your MongoDB server\n",
    "port = '27017'\n",
    "database_name = 'ece9016-db'  # Specify your database name\n",
    "\n",
    "# MongoDB URI\n",
    "mongo_uri = f\"mongodb://{username}:{password}@{hostname}:{port}/\"\n",
    "\n",
    "# Connect to MongoDB\n",
    "client = MongoClient(mongo_uri)\n",
    "\n",
    "# Select the database\n",
    "db = client[database_name]\n",
    "\n",
    "# Select the collection. If it doesn't exist, it will be created.\n",
    "collection = db['name-age']  # Specify your collection name\n",
    "\n",
    "# Generate the data\n",
    "data = [{\n",
    "    \"name\": random_name(),\n",
    "    \"age\": random_age()\n",
    "} for _ in range(10000)]\n",
    "\n",
    "# Insert the data\n",
    "result = collection.insert_many(data)\n",
    "\n",
    "print(f\"Inserted {len(result.inserted_ids)} documents.\")"
   ]
  },
  {
   "cell_type": "code",
   "execution_count": 5,
   "metadata": {},
   "outputs": [
    {
     "name": "stdout",
     "output_type": "stream",
     "text": [
      "{'_id': ObjectId('65ede81cd09f7444a2ae6757'), 'name': 'yHziU', 'age': 43}\n",
      "{'_id': ObjectId('65ede81cd09f7444a2ae6758'), 'name': 'vGwlX', 'age': 63}\n",
      "{'_id': ObjectId('65ede81cd09f7444a2ae6759'), 'name': 'RWzdV', 'age': 70}\n",
      "{'_id': ObjectId('65ede81cd09f7444a2ae675a'), 'name': 'vyNnF', 'age': 18}\n",
      "{'_id': ObjectId('65ede81cd09f7444a2ae675b'), 'name': 'dSGbr', 'age': 99}\n",
      "{'_id': ObjectId('65ede81cd09f7444a2ae675c'), 'name': 'iTRdr', 'age': 86}\n",
      "{'_id': ObjectId('65ede81cd09f7444a2ae675d'), 'name': 'FkBcR', 'age': 60}\n",
      "{'_id': ObjectId('65ede81cd09f7444a2ae675e'), 'name': 'bTDHf', 'age': 63}\n",
      "{'_id': ObjectId('65ede81cd09f7444a2ae675f'), 'name': 'uXXBs', 'age': 58}\n",
      "{'_id': ObjectId('65ede81cd09f7444a2ae6760'), 'name': 'yRKte', 'age': 87}\n"
     ]
    }
   ],
   "source": [
    "from pymongo import MongoClient\n",
    "\n",
    "# MongoDB connection details\n",
    "username = 'adminUser'\n",
    "password = 'cloudcomputingrocks'\n",
    "hostname = '34.130.143.13' \n",
    "port = '27017'\n",
    "database_name = 'ece9016-db'\n",
    "\n",
    "# MongoDB URI\n",
    "mongo_uri = f\"mongodb://{username}:{password}@{hostname}:{port}/\"\n",
    "\n",
    "# Connect to MongoDB\n",
    "client = MongoClient(mongo_uri)\n",
    "\n",
    "# Select the database\n",
    "db = client[database_name]\n",
    "\n",
    "# Select the collection. If it doesn't exist, it will be created.\n",
    "collection = db['name-age'] \n",
    "\n",
    "# Retrieve the first 1000 documents\n",
    "documents = collection.find().limit(10)\n",
    "\n",
    "# Print each document\n",
    "for doc in documents:\n",
    "    print(doc)"
   ]
  },
  {
   "cell_type": "code",
   "execution_count": null,
   "metadata": {},
   "outputs": [],
   "source": []
  }
 ],
 "metadata": {
  "kernelspec": {
   "display_name": "Python 3",
   "language": "python",
   "name": "python3"
  },
  "language_info": {
   "codemirror_mode": {
    "name": "ipython",
    "version": 3
   },
   "file_extension": ".py",
   "mimetype": "text/x-python",
   "name": "python",
   "nbconvert_exporter": "python",
   "pygments_lexer": "ipython3",
   "version": "3.10.13"
  }
 },
 "nbformat": 4,
 "nbformat_minor": 2
}
